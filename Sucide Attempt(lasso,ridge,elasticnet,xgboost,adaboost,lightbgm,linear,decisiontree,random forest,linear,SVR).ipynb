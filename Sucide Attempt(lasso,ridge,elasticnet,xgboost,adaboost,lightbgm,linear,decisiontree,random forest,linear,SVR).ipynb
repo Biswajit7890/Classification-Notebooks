{
 "cells": [
  {
   "cell_type": "code",
   "execution_count": 2,
   "metadata": {},
   "outputs": [],
   "source": [
    "import pandas as pd\n",
    "import numpy as np\n",
    "import warnings\n",
    "warnings.filterwarnings('ignore')\n",
    "import matplotlib.pyplot as plt"
   ]
  },
  {
   "cell_type": "code",
   "execution_count": 33,
   "metadata": {},
   "outputs": [],
   "source": [
    "Sucide_Ml=pd.read_csv('C:/Users/user/Desktop/IVY WORK BOOK/PYTHON/Python Datasets/master.csv')"
   ]
  },
  {
   "cell_type": "code",
   "execution_count": 4,
   "metadata": {},
   "outputs": [
    {
     "data": {
      "text/html": [
       "<div>\n",
       "<style scoped>\n",
       "    .dataframe tbody tr th:only-of-type {\n",
       "        vertical-align: middle;\n",
       "    }\n",
       "\n",
       "    .dataframe tbody tr th {\n",
       "        vertical-align: top;\n",
       "    }\n",
       "\n",
       "    .dataframe thead th {\n",
       "        text-align: right;\n",
       "    }\n",
       "</style>\n",
       "<table border=\"1\" class=\"dataframe\">\n",
       "  <thead>\n",
       "    <tr style=\"text-align: right;\">\n",
       "      <th></th>\n",
       "      <th>country</th>\n",
       "      <th>year</th>\n",
       "      <th>sex</th>\n",
       "      <th>age</th>\n",
       "      <th>suicides_no</th>\n",
       "      <th>population</th>\n",
       "      <th>suicides/100k pop</th>\n",
       "      <th>country-year</th>\n",
       "      <th>HDI for year</th>\n",
       "      <th>gdp_for_year ($)</th>\n",
       "      <th>gdp_per_capita ($)</th>\n",
       "      <th>generation</th>\n",
       "    </tr>\n",
       "  </thead>\n",
       "  <tbody>\n",
       "    <tr>\n",
       "      <td>0</td>\n",
       "      <td>Albania</td>\n",
       "      <td>1987</td>\n",
       "      <td>male</td>\n",
       "      <td>15-24 years</td>\n",
       "      <td>21</td>\n",
       "      <td>312900</td>\n",
       "      <td>6.71</td>\n",
       "      <td>Albania1987</td>\n",
       "      <td>NaN</td>\n",
       "      <td>2,156,624,900</td>\n",
       "      <td>796</td>\n",
       "      <td>Generation X</td>\n",
       "    </tr>\n",
       "    <tr>\n",
       "      <td>1</td>\n",
       "      <td>Albania</td>\n",
       "      <td>1987</td>\n",
       "      <td>male</td>\n",
       "      <td>35-54 years</td>\n",
       "      <td>16</td>\n",
       "      <td>308000</td>\n",
       "      <td>5.19</td>\n",
       "      <td>Albania1987</td>\n",
       "      <td>NaN</td>\n",
       "      <td>2,156,624,900</td>\n",
       "      <td>796</td>\n",
       "      <td>Silent</td>\n",
       "    </tr>\n",
       "    <tr>\n",
       "      <td>2</td>\n",
       "      <td>Albania</td>\n",
       "      <td>1987</td>\n",
       "      <td>female</td>\n",
       "      <td>15-24 years</td>\n",
       "      <td>14</td>\n",
       "      <td>289700</td>\n",
       "      <td>4.83</td>\n",
       "      <td>Albania1987</td>\n",
       "      <td>NaN</td>\n",
       "      <td>2,156,624,900</td>\n",
       "      <td>796</td>\n",
       "      <td>Generation X</td>\n",
       "    </tr>\n",
       "    <tr>\n",
       "      <td>3</td>\n",
       "      <td>Albania</td>\n",
       "      <td>1987</td>\n",
       "      <td>male</td>\n",
       "      <td>75+ years</td>\n",
       "      <td>1</td>\n",
       "      <td>21800</td>\n",
       "      <td>4.59</td>\n",
       "      <td>Albania1987</td>\n",
       "      <td>NaN</td>\n",
       "      <td>2,156,624,900</td>\n",
       "      <td>796</td>\n",
       "      <td>G.I. Generation</td>\n",
       "    </tr>\n",
       "    <tr>\n",
       "      <td>4</td>\n",
       "      <td>Albania</td>\n",
       "      <td>1987</td>\n",
       "      <td>male</td>\n",
       "      <td>25-34 years</td>\n",
       "      <td>9</td>\n",
       "      <td>274300</td>\n",
       "      <td>3.28</td>\n",
       "      <td>Albania1987</td>\n",
       "      <td>NaN</td>\n",
       "      <td>2,156,624,900</td>\n",
       "      <td>796</td>\n",
       "      <td>Boomers</td>\n",
       "    </tr>\n",
       "  </tbody>\n",
       "</table>\n",
       "</div>"
      ],
      "text/plain": [
       "   country  year     sex          age  suicides_no  population  \\\n",
       "0  Albania  1987    male  15-24 years           21      312900   \n",
       "1  Albania  1987    male  35-54 years           16      308000   \n",
       "2  Albania  1987  female  15-24 years           14      289700   \n",
       "3  Albania  1987    male    75+ years            1       21800   \n",
       "4  Albania  1987    male  25-34 years            9      274300   \n",
       "\n",
       "   suicides/100k pop country-year  HDI for year  gdp_for_year ($)   \\\n",
       "0               6.71  Albania1987           NaN      2,156,624,900   \n",
       "1               5.19  Albania1987           NaN      2,156,624,900   \n",
       "2               4.83  Albania1987           NaN      2,156,624,900   \n",
       "3               4.59  Albania1987           NaN      2,156,624,900   \n",
       "4               3.28  Albania1987           NaN      2,156,624,900   \n",
       "\n",
       "   gdp_per_capita ($)       generation  \n",
       "0                 796     Generation X  \n",
       "1                 796           Silent  \n",
       "2                 796     Generation X  \n",
       "3                 796  G.I. Generation  \n",
       "4                 796          Boomers  "
      ]
     },
     "execution_count": 4,
     "metadata": {},
     "output_type": "execute_result"
    }
   ],
   "source": [
    "Sucide_Ml.head()"
   ]
  },
  {
   "cell_type": "code",
   "execution_count": 34,
   "metadata": {},
   "outputs": [
    {
     "name": "stdout",
     "output_type": "stream",
     "text": [
      "<class 'pandas.core.frame.DataFrame'>\n",
      "RangeIndex: 27820 entries, 0 to 27819\n",
      "Data columns (total 12 columns):\n",
      "country               27820 non-null object\n",
      "year                  27820 non-null int64\n",
      "sex                   27820 non-null object\n",
      "age                   27820 non-null object\n",
      "suicides_no           27820 non-null int64\n",
      "population            27820 non-null int64\n",
      "suicides/100k pop     27820 non-null float64\n",
      "country-year          27820 non-null object\n",
      "HDI for year          8364 non-null float64\n",
      " gdp_for_year ($)     27820 non-null object\n",
      "gdp_per_capita ($)    27820 non-null int64\n",
      "generation            27820 non-null object\n",
      "dtypes: float64(2), int64(4), object(6)\n",
      "memory usage: 2.5+ MB\n"
     ]
    }
   ],
   "source": [
    "Sucide_Ml.info()"
   ]
  },
  {
   "cell_type": "code",
   "execution_count": 35,
   "metadata": {},
   "outputs": [
    {
     "data": {
      "text/html": [
       "<div>\n",
       "<style scoped>\n",
       "    .dataframe tbody tr th:only-of-type {\n",
       "        vertical-align: middle;\n",
       "    }\n",
       "\n",
       "    .dataframe tbody tr th {\n",
       "        vertical-align: top;\n",
       "    }\n",
       "\n",
       "    .dataframe thead th {\n",
       "        text-align: right;\n",
       "    }\n",
       "</style>\n",
       "<table border=\"1\" class=\"dataframe\">\n",
       "  <thead>\n",
       "    <tr style=\"text-align: right;\">\n",
       "      <th></th>\n",
       "      <th>country</th>\n",
       "      <th>year</th>\n",
       "      <th>sex</th>\n",
       "      <th>age</th>\n",
       "      <th>suicides_no</th>\n",
       "      <th>population</th>\n",
       "      <th>suicides/100k pop</th>\n",
       "      <th>country-year</th>\n",
       "      <th>HDI for year</th>\n",
       "      <th>gdp_for_year ($)</th>\n",
       "      <th>gdp_per_capita ($)</th>\n",
       "      <th>generation</th>\n",
       "    </tr>\n",
       "  </thead>\n",
       "  <tbody>\n",
       "    <tr>\n",
       "      <td>72</td>\n",
       "      <td>Albania</td>\n",
       "      <td>1995</td>\n",
       "      <td>male</td>\n",
       "      <td>25-34 years</td>\n",
       "      <td>13</td>\n",
       "      <td>232900</td>\n",
       "      <td>5.58</td>\n",
       "      <td>Albania1995</td>\n",
       "      <td>0.619</td>\n",
       "      <td>2,424,499,009</td>\n",
       "      <td>835</td>\n",
       "      <td>Generation X</td>\n",
       "    </tr>\n",
       "    <tr>\n",
       "      <td>73</td>\n",
       "      <td>Albania</td>\n",
       "      <td>1995</td>\n",
       "      <td>male</td>\n",
       "      <td>55-74 years</td>\n",
       "      <td>9</td>\n",
       "      <td>178000</td>\n",
       "      <td>5.06</td>\n",
       "      <td>Albania1995</td>\n",
       "      <td>0.619</td>\n",
       "      <td>2,424,499,009</td>\n",
       "      <td>835</td>\n",
       "      <td>Silent</td>\n",
       "    </tr>\n",
       "    <tr>\n",
       "      <td>74</td>\n",
       "      <td>Albania</td>\n",
       "      <td>1995</td>\n",
       "      <td>female</td>\n",
       "      <td>75+ years</td>\n",
       "      <td>2</td>\n",
       "      <td>40800</td>\n",
       "      <td>4.90</td>\n",
       "      <td>Albania1995</td>\n",
       "      <td>0.619</td>\n",
       "      <td>2,424,499,009</td>\n",
       "      <td>835</td>\n",
       "      <td>G.I. Generation</td>\n",
       "    </tr>\n",
       "    <tr>\n",
       "      <td>75</td>\n",
       "      <td>Albania</td>\n",
       "      <td>1995</td>\n",
       "      <td>female</td>\n",
       "      <td>15-24 years</td>\n",
       "      <td>13</td>\n",
       "      <td>283500</td>\n",
       "      <td>4.59</td>\n",
       "      <td>Albania1995</td>\n",
       "      <td>0.619</td>\n",
       "      <td>2,424,499,009</td>\n",
       "      <td>835</td>\n",
       "      <td>Generation X</td>\n",
       "    </tr>\n",
       "    <tr>\n",
       "      <td>76</td>\n",
       "      <td>Albania</td>\n",
       "      <td>1995</td>\n",
       "      <td>male</td>\n",
       "      <td>15-24 years</td>\n",
       "      <td>11</td>\n",
       "      <td>241200</td>\n",
       "      <td>4.56</td>\n",
       "      <td>Albania1995</td>\n",
       "      <td>0.619</td>\n",
       "      <td>2,424,499,009</td>\n",
       "      <td>835</td>\n",
       "      <td>Generation X</td>\n",
       "    </tr>\n",
       "    <tr>\n",
       "      <td>...</td>\n",
       "      <td>...</td>\n",
       "      <td>...</td>\n",
       "      <td>...</td>\n",
       "      <td>...</td>\n",
       "      <td>...</td>\n",
       "      <td>...</td>\n",
       "      <td>...</td>\n",
       "      <td>...</td>\n",
       "      <td>...</td>\n",
       "      <td>...</td>\n",
       "      <td>...</td>\n",
       "      <td>...</td>\n",
       "    </tr>\n",
       "    <tr>\n",
       "      <td>27815</td>\n",
       "      <td>Uzbekistan</td>\n",
       "      <td>2014</td>\n",
       "      <td>female</td>\n",
       "      <td>35-54 years</td>\n",
       "      <td>107</td>\n",
       "      <td>3620833</td>\n",
       "      <td>2.96</td>\n",
       "      <td>Uzbekistan2014</td>\n",
       "      <td>0.675</td>\n",
       "      <td>63,067,077,179</td>\n",
       "      <td>2309</td>\n",
       "      <td>Generation X</td>\n",
       "    </tr>\n",
       "    <tr>\n",
       "      <td>27816</td>\n",
       "      <td>Uzbekistan</td>\n",
       "      <td>2014</td>\n",
       "      <td>female</td>\n",
       "      <td>75+ years</td>\n",
       "      <td>9</td>\n",
       "      <td>348465</td>\n",
       "      <td>2.58</td>\n",
       "      <td>Uzbekistan2014</td>\n",
       "      <td>0.675</td>\n",
       "      <td>63,067,077,179</td>\n",
       "      <td>2309</td>\n",
       "      <td>Silent</td>\n",
       "    </tr>\n",
       "    <tr>\n",
       "      <td>27817</td>\n",
       "      <td>Uzbekistan</td>\n",
       "      <td>2014</td>\n",
       "      <td>male</td>\n",
       "      <td>5-14 years</td>\n",
       "      <td>60</td>\n",
       "      <td>2762158</td>\n",
       "      <td>2.17</td>\n",
       "      <td>Uzbekistan2014</td>\n",
       "      <td>0.675</td>\n",
       "      <td>63,067,077,179</td>\n",
       "      <td>2309</td>\n",
       "      <td>Generation Z</td>\n",
       "    </tr>\n",
       "    <tr>\n",
       "      <td>27818</td>\n",
       "      <td>Uzbekistan</td>\n",
       "      <td>2014</td>\n",
       "      <td>female</td>\n",
       "      <td>5-14 years</td>\n",
       "      <td>44</td>\n",
       "      <td>2631600</td>\n",
       "      <td>1.67</td>\n",
       "      <td>Uzbekistan2014</td>\n",
       "      <td>0.675</td>\n",
       "      <td>63,067,077,179</td>\n",
       "      <td>2309</td>\n",
       "      <td>Generation Z</td>\n",
       "    </tr>\n",
       "    <tr>\n",
       "      <td>27819</td>\n",
       "      <td>Uzbekistan</td>\n",
       "      <td>2014</td>\n",
       "      <td>female</td>\n",
       "      <td>55-74 years</td>\n",
       "      <td>21</td>\n",
       "      <td>1438935</td>\n",
       "      <td>1.46</td>\n",
       "      <td>Uzbekistan2014</td>\n",
       "      <td>0.675</td>\n",
       "      <td>63,067,077,179</td>\n",
       "      <td>2309</td>\n",
       "      <td>Boomers</td>\n",
       "    </tr>\n",
       "  </tbody>\n",
       "</table>\n",
       "<p>8364 rows × 12 columns</p>\n",
       "</div>"
      ],
      "text/plain": [
       "          country  year     sex          age  suicides_no  population  \\\n",
       "72        Albania  1995    male  25-34 years           13      232900   \n",
       "73        Albania  1995    male  55-74 years            9      178000   \n",
       "74        Albania  1995  female    75+ years            2       40800   \n",
       "75        Albania  1995  female  15-24 years           13      283500   \n",
       "76        Albania  1995    male  15-24 years           11      241200   \n",
       "...           ...   ...     ...          ...          ...         ...   \n",
       "27815  Uzbekistan  2014  female  35-54 years          107     3620833   \n",
       "27816  Uzbekistan  2014  female    75+ years            9      348465   \n",
       "27817  Uzbekistan  2014    male   5-14 years           60     2762158   \n",
       "27818  Uzbekistan  2014  female   5-14 years           44     2631600   \n",
       "27819  Uzbekistan  2014  female  55-74 years           21     1438935   \n",
       "\n",
       "       suicides/100k pop    country-year  HDI for year  gdp_for_year ($)   \\\n",
       "72                  5.58     Albania1995         0.619      2,424,499,009   \n",
       "73                  5.06     Albania1995         0.619      2,424,499,009   \n",
       "74                  4.90     Albania1995         0.619      2,424,499,009   \n",
       "75                  4.59     Albania1995         0.619      2,424,499,009   \n",
       "76                  4.56     Albania1995         0.619      2,424,499,009   \n",
       "...                  ...             ...           ...                ...   \n",
       "27815               2.96  Uzbekistan2014         0.675     63,067,077,179   \n",
       "27816               2.58  Uzbekistan2014         0.675     63,067,077,179   \n",
       "27817               2.17  Uzbekistan2014         0.675     63,067,077,179   \n",
       "27818               1.67  Uzbekistan2014         0.675     63,067,077,179   \n",
       "27819               1.46  Uzbekistan2014         0.675     63,067,077,179   \n",
       "\n",
       "       gdp_per_capita ($)       generation  \n",
       "72                    835     Generation X  \n",
       "73                    835           Silent  \n",
       "74                    835  G.I. Generation  \n",
       "75                    835     Generation X  \n",
       "76                    835     Generation X  \n",
       "...                   ...              ...  \n",
       "27815                2309     Generation X  \n",
       "27816                2309           Silent  \n",
       "27817                2309     Generation Z  \n",
       "27818                2309     Generation Z  \n",
       "27819                2309          Boomers  \n",
       "\n",
       "[8364 rows x 12 columns]"
      ]
     },
     "execution_count": 35,
     "metadata": {},
     "output_type": "execute_result"
    }
   ],
   "source": [
    "Sucide_Ml.dropna()"
   ]
  },
  {
   "cell_type": "code",
   "execution_count": 139,
   "metadata": {},
   "outputs": [
    {
     "data": {
      "text/plain": [
       "year                    32\n",
       "sex                      2\n",
       "age                      6\n",
       "suicides/100k pop     4676\n",
       "gdp_per_capita ($)    2219\n",
       "generation               5\n",
       "dtype: int64"
      ]
     },
     "execution_count": 139,
     "metadata": {},
     "output_type": "execute_result"
    }
   ],
   "source": [
    "Sucide_Ml.nunique()"
   ]
  },
  {
   "cell_type": "code",
   "execution_count": 137,
   "metadata": {},
   "outputs": [
    {
     "data": {
      "text/plain": [
       "array(['Silent', 'G.I. Generation', 'Boomers', 'Millenials',\n",
       "       'Generation Z'], dtype=object)"
      ]
     },
     "execution_count": 137,
     "metadata": {},
     "output_type": "execute_result"
    }
   ],
   "source": [
    "Sucide_Ml['generation'].unique()"
   ]
  },
  {
   "cell_type": "code",
   "execution_count": 138,
   "metadata": {},
   "outputs": [],
   "source": [
    "Sucide_Ml=Sucide_Ml.drop(labels=['population'],axis=1)"
   ]
  },
  {
   "cell_type": "code",
   "execution_count": 140,
   "metadata": {},
   "outputs": [
    {
     "data": {
      "text/plain": [
       "year                  0\n",
       "sex                   0\n",
       "age                   0\n",
       "suicides/100k pop     0\n",
       "gdp_per_capita ($)    0\n",
       "generation            0\n",
       "dtype: int64"
      ]
     },
     "execution_count": 140,
     "metadata": {},
     "output_type": "execute_result"
    }
   ],
   "source": [
    "Sucide_Ml.isnull().sum()"
   ]
  },
  {
   "cell_type": "code",
   "execution_count": 141,
   "metadata": {},
   "outputs": [
    {
     "data": {
      "text/plain": [
       "<matplotlib.axes._subplots.AxesSubplot at 0x2bb97023248>"
      ]
     },
     "execution_count": 141,
     "metadata": {},
     "output_type": "execute_result"
    },
    {
     "data": {
      "image/png": "[encoded data removed]",
      "text/plain": [
       "<Figure size 3600x720 with 1 Axes>"
      ]
     },
     "metadata": {
      "needs_background": "light"
     },
     "output_type": "display_data"
    }
   ],
   "source": [
    "Sucide_Ml['age'].hist(figsize=(50,10))"
   ]
  },
  {
   "cell_type": "code",
   "execution_count": 142,
   "metadata": {},
   "outputs": [
    {
     "data": {
      "text/html": [
       "<div>\n",
       "<style scoped>\n",
       "    .dataframe tbody tr th:only-of-type {\n",
       "        vertical-align: middle;\n",
       "    }\n",
       "\n",
       "    .dataframe tbody tr th {\n",
       "        vertical-align: top;\n",
       "    }\n",
       "\n",
       "    .dataframe thead th {\n",
       "        text-align: right;\n",
       "    }\n",
       "</style>\n",
       "<table border=\"1\" class=\"dataframe\">\n",
       "  <thead>\n",
       "    <tr style=\"text-align: right;\">\n",
       "      <th></th>\n",
       "      <th>year</th>\n",
       "      <th>sex</th>\n",
       "      <th>age</th>\n",
       "      <th>suicides/100k pop</th>\n",
       "      <th>gdp_per_capita ($)</th>\n",
       "      <th>generation</th>\n",
       "    </tr>\n",
       "  </thead>\n",
       "  <tbody>\n",
       "    <tr>\n",
       "      <td>count</td>\n",
       "      <td>18811.000000</td>\n",
       "      <td>18811</td>\n",
       "      <td>18811</td>\n",
       "      <td>18811.000000</td>\n",
       "      <td>18811.000000</td>\n",
       "      <td>18811</td>\n",
       "    </tr>\n",
       "    <tr>\n",
       "      <td>unique</td>\n",
       "      <td>NaN</td>\n",
       "      <td>2</td>\n",
       "      <td>6</td>\n",
       "      <td>NaN</td>\n",
       "      <td>NaN</td>\n",
       "      <td>5</td>\n",
       "    </tr>\n",
       "    <tr>\n",
       "      <td>top</td>\n",
       "      <td>NaN</td>\n",
       "      <td>female</td>\n",
       "      <td>75+ years</td>\n",
       "      <td>NaN</td>\n",
       "      <td>NaN</td>\n",
       "      <td>Silent</td>\n",
       "    </tr>\n",
       "    <tr>\n",
       "      <td>freq</td>\n",
       "      <td>NaN</td>\n",
       "      <td>9419</td>\n",
       "      <td>4590</td>\n",
       "      <td>NaN</td>\n",
       "      <td>NaN</td>\n",
       "      <td>6310</td>\n",
       "    </tr>\n",
       "    <tr>\n",
       "      <td>mean</td>\n",
       "      <td>2001.648397</td>\n",
       "      <td>NaN</td>\n",
       "      <td>NaN</td>\n",
       "      <td>13.065599</td>\n",
       "      <td>15184.592898</td>\n",
       "      <td>NaN</td>\n",
       "    </tr>\n",
       "    <tr>\n",
       "      <td>std</td>\n",
       "      <td>8.358293</td>\n",
       "      <td>NaN</td>\n",
       "      <td>NaN</td>\n",
       "      <td>20.193329</td>\n",
       "      <td>17299.278018</td>\n",
       "      <td>NaN</td>\n",
       "    </tr>\n",
       "    <tr>\n",
       "      <td>min</td>\n",
       "      <td>1985.000000</td>\n",
       "      <td>NaN</td>\n",
       "      <td>NaN</td>\n",
       "      <td>0.000000</td>\n",
       "      <td>251.000000</td>\n",
       "      <td>NaN</td>\n",
       "    </tr>\n",
       "    <tr>\n",
       "      <td>25%</td>\n",
       "      <td>1995.000000</td>\n",
       "      <td>NaN</td>\n",
       "      <td>NaN</td>\n",
       "      <td>0.550000</td>\n",
       "      <td>3136.000000</td>\n",
       "      <td>NaN</td>\n",
       "    </tr>\n",
       "    <tr>\n",
       "      <td>50%</td>\n",
       "      <td>2002.000000</td>\n",
       "      <td>NaN</td>\n",
       "      <td>NaN</td>\n",
       "      <td>5.050000</td>\n",
       "      <td>7612.000000</td>\n",
       "      <td>NaN</td>\n",
       "    </tr>\n",
       "    <tr>\n",
       "      <td>75%</td>\n",
       "      <td>2009.000000</td>\n",
       "      <td>NaN</td>\n",
       "      <td>NaN</td>\n",
       "      <td>16.585000</td>\n",
       "      <td>22804.000000</td>\n",
       "      <td>NaN</td>\n",
       "    </tr>\n",
       "    <tr>\n",
       "      <td>max</td>\n",
       "      <td>2016.000000</td>\n",
       "      <td>NaN</td>\n",
       "      <td>NaN</td>\n",
       "      <td>150.000000</td>\n",
       "      <td>95351.000000</td>\n",
       "      <td>NaN</td>\n",
       "    </tr>\n",
       "  </tbody>\n",
       "</table>\n",
       "</div>"
      ],
      "text/plain": [
       "                year     sex        age  suicides/100k pop  \\\n",
       "count   18811.000000   18811      18811       18811.000000   \n",
       "unique           NaN       2          6                NaN   \n",
       "top              NaN  female  75+ years                NaN   \n",
       "freq             NaN    9419       4590                NaN   \n",
       "mean     2001.648397     NaN        NaN          13.065599   \n",
       "std         8.358293     NaN        NaN          20.193329   \n",
       "min      1985.000000     NaN        NaN           0.000000   \n",
       "25%      1995.000000     NaN        NaN           0.550000   \n",
       "50%      2002.000000     NaN        NaN           5.050000   \n",
       "75%      2009.000000     NaN        NaN          16.585000   \n",
       "max      2016.000000     NaN        NaN         150.000000   \n",
       "\n",
       "        gdp_per_capita ($) generation  \n",
       "count         18811.000000      18811  \n",
       "unique                 NaN          5  \n",
       "top                    NaN     Silent  \n",
       "freq                   NaN       6310  \n",
       "mean          15184.592898        NaN  \n",
       "std           17299.278018        NaN  \n",
       "min             251.000000        NaN  \n",
       "25%            3136.000000        NaN  \n",
       "50%            7612.000000        NaN  \n",
       "75%           22804.000000        NaN  \n",
       "max           95351.000000        NaN  "
      ]
     },
     "execution_count": 142,
     "metadata": {},
     "output_type": "execute_result"
    }
   ],
   "source": [
    "Sucide_Ml.describe(include='all')"
   ]
  },
  {
   "cell_type": "code",
   "execution_count": 131,
   "metadata": {},
   "outputs": [],
   "source": [
    "cat_cols=['year','generation','sex','age']\n",
    "outlier_cols=['population']"
   ]
  },
  {
   "cell_type": "code",
   "execution_count": 135,
   "metadata": {},
   "outputs": [
    {
     "data": {
      "text/plain": [
       "<matplotlib.axes._subplots.AxesSubplot at 0x2bb96b84508>"
      ]
     },
     "execution_count": 135,
     "metadata": {},
     "output_type": "execute_result"
    },
    {
     "data": {
      "image/png": "[encoded data removed]",
      "text/plain": [
       "<Figure size 1080x432 with 1 Axes>"
      ]
     },
     "metadata": {
      "needs_background": "light"
     },
     "output_type": "display_data"
    }
   ],
   "source": [
    "Sucide_Ml.boxplot(column='population',by='generation',figsize=(15,6))"
   ]
  },
  {
   "cell_type": "code",
   "execution_count": 134,
   "metadata": {},
   "outputs": [],
   "source": [
    "## Deleteing outliers\n",
    "con1=Sucide_Ml['population']>3\n",
    "con2=Sucide_Ml['generation']=='Generation X'\n",
    "Delete=Sucide_Ml[con1&con2].index\n",
    "Sucide_Ml=Sucide_Ml.drop(Delete)\n"
   ]
  },
  {
   "cell_type": "code",
   "execution_count": 143,
   "metadata": {},
   "outputs": [
    {
     "name": "stdout",
     "output_type": "stream",
     "text": [
      "<class 'pandas.core.frame.DataFrame'>\n",
      "Int64Index: 18811 entries, 1 to 27819\n",
      "Data columns (total 6 columns):\n",
      "year                  18811 non-null int64\n",
      "sex                   18811 non-null object\n",
      "age                   18811 non-null object\n",
      "suicides/100k pop     18811 non-null float64\n",
      "gdp_per_capita ($)    18811 non-null int64\n",
      "generation            18811 non-null object\n",
      "dtypes: float64(1), int64(2), object(3)\n",
      "memory usage: 1.0+ MB\n"
     ]
    }
   ],
   "source": [
    "cat_cols=['year','generation','sex','age']\n",
    "Sucide_Ml.info()"
   ]
  },
  {
   "cell_type": "code",
   "execution_count": 145,
   "metadata": {},
   "outputs": [
    {
     "data": {
      "text/plain": [
       "year                 -0.106941\n",
       "suicides/100k pop     1.000000\n",
       "gdp_per_capita ($)   -0.017224\n",
       "dtype: float64"
      ]
     },
     "execution_count": 145,
     "metadata": {},
     "output_type": "execute_result"
    }
   ],
   "source": [
    "Sucide_Ml.corrwith(Sucide_Ml['suicides/100k pop'], axis=0)"
   ]
  },
  {
   "cell_type": "code",
   "execution_count": 163,
   "metadata": {},
   "outputs": [
    {
     "name": "stdout",
     "output_type": "stream",
     "text": [
      "////////////////////////////////////////////////////////////\n",
      "The p values is  1.363471138472834e-41\n",
      "year is coreleated with target variable\n",
      "////////////////////////////////////////////////////////////\n",
      "The p values is  0.0\n",
      "generation is coreleated with target variable\n",
      "////////////////////////////////////////////////////////////\n",
      "The p values is  0.0\n",
      "sex is coreleated with target variable\n",
      "////////////////////////////////////////////////////////////\n",
      "The p values is  0.0\n",
      "age is coreleated with target variable\n"
     ]
    }
   ],
   "source": [
    "## checking the coreletaion with continuous varibale with the categorical varibale conducting Annova \n",
    "\n",
    "from scipy.stats import f_oneway\n",
    "\n",
    "for i in cat_cols:\n",
    "    print('/'*60)\n",
    "    Annovactegory=Sucide_Ml.groupby(i)['suicides/100k pop'].apply(list)\n",
    "    Annovaresult=f_oneway(*Annovactegory)\n",
    "    print(\"The p values is \", Annovaresult[1])\n",
    "    if(Annovaresult[1]<0.05):\n",
    "        print(i,\"is coreleated with target variable\")\n",
    "    else:\n",
    "        print(i,\"is not coreleated with target variable\")\n",
    "        \n",
    "\n"
   ]
  },
  {
   "cell_type": "code",
   "execution_count": 151,
   "metadata": {},
   "outputs": [],
   "source": [
    "Sucide_Ml_csv=pd.DataFrame()\n",
    "\n",
    "Sucide_Ml_csv.to_csv('C:/Users/user/Desktop/IVY WORK BOOK/PYTHON/Python Datasets/Sucide_Ml_csv.csv')"
   ]
  },
  {
   "cell_type": "code",
   "execution_count": 159,
   "metadata": {},
   "outputs": [
    {
     "data": {
      "text/plain": [
       "array(['Silent', 'G.I. Generation', 'Boomers', 'Millenials',\n",
       "       'Generation Z'], dtype=object)"
      ]
     },
     "execution_count": 159,
     "metadata": {},
     "output_type": "execute_result"
    }
   ],
   "source": [
    "Sucide_Ml['generation'].unique()"
   ]
  },
  {
   "cell_type": "code",
   "execution_count": 161,
   "metadata": {},
   "outputs": [],
   "source": [
    "mapping={'Silent':1,'G.I. Generation':2,'Boomers':3,'Millenials':4,'Generation Z':5}\n",
    "\n",
    "Sucide_Ml['generation']=Sucide_Ml['generation'].map(mapping)"
   ]
  },
  {
   "cell_type": "code",
   "execution_count": 175,
   "metadata": {},
   "outputs": [
    {
     "data": {
      "text/html": [
       "<div>\n",
       "<style scoped>\n",
       "    .dataframe tbody tr th:only-of-type {\n",
       "        vertical-align: middle;\n",
       "    }\n",
       "\n",
       "    .dataframe tbody tr th {\n",
       "        vertical-align: top;\n",
       "    }\n",
       "\n",
       "    .dataframe thead th {\n",
       "        text-align: right;\n",
       "    }\n",
       "</style>\n",
       "<table border=\"1\" class=\"dataframe\">\n",
       "  <thead>\n",
       "    <tr style=\"text-align: right;\">\n",
       "      <th></th>\n",
       "      <th>year</th>\n",
       "      <th>sex</th>\n",
       "      <th>age</th>\n",
       "      <th>suicides/100k pop</th>\n",
       "      <th>gdp_per_capita ($)</th>\n",
       "      <th>generation</th>\n",
       "    </tr>\n",
       "  </thead>\n",
       "  <tbody>\n",
       "    <tr>\n",
       "      <td>1</td>\n",
       "      <td>1987</td>\n",
       "      <td>1</td>\n",
       "      <td>4</td>\n",
       "      <td>5.19</td>\n",
       "      <td>796</td>\n",
       "      <td>1</td>\n",
       "    </tr>\n",
       "    <tr>\n",
       "      <td>3</td>\n",
       "      <td>1987</td>\n",
       "      <td>1</td>\n",
       "      <td>6</td>\n",
       "      <td>4.59</td>\n",
       "      <td>796</td>\n",
       "      <td>2</td>\n",
       "    </tr>\n",
       "    <tr>\n",
       "      <td>4</td>\n",
       "      <td>1987</td>\n",
       "      <td>1</td>\n",
       "      <td>3</td>\n",
       "      <td>3.28</td>\n",
       "      <td>796</td>\n",
       "      <td>3</td>\n",
       "    </tr>\n",
       "    <tr>\n",
       "      <td>5</td>\n",
       "      <td>1987</td>\n",
       "      <td>0</td>\n",
       "      <td>6</td>\n",
       "      <td>2.81</td>\n",
       "      <td>796</td>\n",
       "      <td>2</td>\n",
       "    </tr>\n",
       "    <tr>\n",
       "      <td>6</td>\n",
       "      <td>1987</td>\n",
       "      <td>0</td>\n",
       "      <td>4</td>\n",
       "      <td>2.15</td>\n",
       "      <td>796</td>\n",
       "      <td>1</td>\n",
       "    </tr>\n",
       "    <tr>\n",
       "      <td>...</td>\n",
       "      <td>...</td>\n",
       "      <td>...</td>\n",
       "      <td>...</td>\n",
       "      <td>...</td>\n",
       "      <td>...</td>\n",
       "      <td>...</td>\n",
       "    </tr>\n",
       "    <tr>\n",
       "      <td>27814</td>\n",
       "      <td>2014</td>\n",
       "      <td>0</td>\n",
       "      <td>3</td>\n",
       "      <td>5.92</td>\n",
       "      <td>2309</td>\n",
       "      <td>4</td>\n",
       "    </tr>\n",
       "    <tr>\n",
       "      <td>27816</td>\n",
       "      <td>2014</td>\n",
       "      <td>0</td>\n",
       "      <td>6</td>\n",
       "      <td>2.58</td>\n",
       "      <td>2309</td>\n",
       "      <td>1</td>\n",
       "    </tr>\n",
       "    <tr>\n",
       "      <td>27817</td>\n",
       "      <td>2014</td>\n",
       "      <td>1</td>\n",
       "      <td>1</td>\n",
       "      <td>2.17</td>\n",
       "      <td>2309</td>\n",
       "      <td>5</td>\n",
       "    </tr>\n",
       "    <tr>\n",
       "      <td>27818</td>\n",
       "      <td>2014</td>\n",
       "      <td>0</td>\n",
       "      <td>1</td>\n",
       "      <td>1.67</td>\n",
       "      <td>2309</td>\n",
       "      <td>5</td>\n",
       "    </tr>\n",
       "    <tr>\n",
       "      <td>27819</td>\n",
       "      <td>2014</td>\n",
       "      <td>0</td>\n",
       "      <td>5</td>\n",
       "      <td>1.46</td>\n",
       "      <td>2309</td>\n",
       "      <td>3</td>\n",
       "    </tr>\n",
       "  </tbody>\n",
       "</table>\n",
       "<p>18809 rows × 6 columns</p>\n",
       "</div>"
      ],
      "text/plain": [
       "       year  sex  age  suicides/100k pop  gdp_per_capita ($)  generation\n",
       "1      1987    1    4               5.19                 796           1\n",
       "3      1987    1    6               4.59                 796           2\n",
       "4      1987    1    3               3.28                 796           3\n",
       "5      1987    0    6               2.81                 796           2\n",
       "6      1987    0    4               2.15                 796           1\n",
       "...     ...  ...  ...                ...                 ...         ...\n",
       "27814  2014    0    3               5.92                2309           4\n",
       "27816  2014    0    6               2.58                2309           1\n",
       "27817  2014    1    1               2.17                2309           5\n",
       "27818  2014    0    1               1.67                2309           5\n",
       "27819  2014    0    5               1.46                2309           3\n",
       "\n",
       "[18809 rows x 6 columns]"
      ]
     },
     "execution_count": 175,
     "metadata": {},
     "output_type": "execute_result"
    }
   ],
   "source": [
    "Sucide_Ml"
   ]
  },
  {
   "cell_type": "code",
   "execution_count": 174,
   "metadata": {},
   "outputs": [
    {
     "data": {
      "text/plain": [
       "<matplotlib.axes._subplots.AxesSubplot at 0x2bb9a778508>"
      ]
     },
     "execution_count": 174,
     "metadata": {},
     "output_type": "execute_result"
    },
    {
     "data": {
      "image/png": "[encoded data removed]",
      "text/plain": [
       "<Figure size 1440x1080 with 1 Axes>"
      ]
     },
     "metadata": {
      "needs_background": "light"
     },
     "output_type": "display_data"
    }
   ],
   "source": [
    "Sucide_Ml.plot.scatter(x='gdp_per_capita ($)',y='suicides/100k pop', figsize=(20,15))"
   ]
  },
  {
   "cell_type": "code",
   "execution_count": 173,
   "metadata": {},
   "outputs": [],
   "source": [
    "## Deleteing outliers\n",
    "con1=Sucide_Ml['suicides/100k pop'].between(60,80)\n",
    "con2=Sucide_Ml['gdp_per_capita ($)']>93000\n",
    "Delete=Sucide_Ml[con1&con2].index\n",
    "Sucide_Ml=Sucide_Ml.drop(Delete)"
   ]
  },
  {
   "cell_type": "code",
   "execution_count": 264,
   "metadata": {},
   "outputs": [
    {
     "data": {
      "text/html": [
       "<div>\n",
       "<style scoped>\n",
       "    .dataframe tbody tr th:only-of-type {\n",
       "        vertical-align: middle;\n",
       "    }\n",
       "\n",
       "    .dataframe tbody tr th {\n",
       "        vertical-align: top;\n",
       "    }\n",
       "\n",
       "    .dataframe thead th {\n",
       "        text-align: right;\n",
       "    }\n",
       "</style>\n",
       "<table border=\"1\" class=\"dataframe\">\n",
       "  <thead>\n",
       "    <tr style=\"text-align: right;\">\n",
       "      <th></th>\n",
       "      <th>year</th>\n",
       "      <th>sex</th>\n",
       "      <th>age</th>\n",
       "      <th>suicides/100k pop</th>\n",
       "      <th>gdp_per_capita ($)</th>\n",
       "      <th>generation</th>\n",
       "    </tr>\n",
       "  </thead>\n",
       "  <tbody>\n",
       "    <tr>\n",
       "      <td>10</td>\n",
       "      <td>1987</td>\n",
       "      <td>0</td>\n",
       "      <td>5</td>\n",
       "      <td>0.0</td>\n",
       "      <td>796</td>\n",
       "      <td>2</td>\n",
       "    </tr>\n",
       "    <tr>\n",
       "      <td>34</td>\n",
       "      <td>1989</td>\n",
       "      <td>0</td>\n",
       "      <td>6</td>\n",
       "      <td>0.0</td>\n",
       "      <td>833</td>\n",
       "      <td>2</td>\n",
       "    </tr>\n",
       "    <tr>\n",
       "      <td>44</td>\n",
       "      <td>1992</td>\n",
       "      <td>0</td>\n",
       "      <td>1</td>\n",
       "      <td>0.0</td>\n",
       "      <td>251</td>\n",
       "      <td>4</td>\n",
       "    </tr>\n",
       "    <tr>\n",
       "      <td>45</td>\n",
       "      <td>1992</td>\n",
       "      <td>0</td>\n",
       "      <td>6</td>\n",
       "      <td>0.0</td>\n",
       "      <td>251</td>\n",
       "      <td>2</td>\n",
       "    </tr>\n",
       "    <tr>\n",
       "      <td>46</td>\n",
       "      <td>1992</td>\n",
       "      <td>1</td>\n",
       "      <td>1</td>\n",
       "      <td>0.0</td>\n",
       "      <td>251</td>\n",
       "      <td>4</td>\n",
       "    </tr>\n",
       "  </tbody>\n",
       "</table>\n",
       "</div>"
      ],
      "text/plain": [
       "    year  sex  age  suicides/100k pop  gdp_per_capita ($)  generation\n",
       "10  1987    0    5                0.0                 796           2\n",
       "34  1989    0    6                0.0                 833           2\n",
       "44  1992    0    1                0.0                 251           4\n",
       "45  1992    0    6                0.0                 251           2\n",
       "46  1992    1    1                0.0                 251           4"
      ]
     },
     "execution_count": 264,
     "metadata": {},
     "output_type": "execute_result"
    }
   ],
   "source": [
    "Sucide_Ml[Sucide_Ml['suicides/100k pop']==0].head(5)"
   ]
  },
  {
   "cell_type": "code",
   "execution_count": 262,
   "metadata": {},
   "outputs": [
    {
     "name": "stdout",
     "output_type": "stream",
     "text": [
      "5.05\n"
     ]
    }
   ],
   "source": [
    "M_edian=Sucide_Ml['suicides/100k pop'].median()\n",
    "print(M_edian)"
   ]
  },
  {
   "cell_type": "code",
   "execution_count": 265,
   "metadata": {},
   "outputs": [],
   "source": [
    "Sucide_Ml['suicides/100k pop'][Sucide_Ml['suicides/100k pop']==0.0]=M_edian"
   ]
  },
  {
   "cell_type": "code",
   "execution_count": 266,
   "metadata": {},
   "outputs": [
    {
     "data": {
      "text/plain": [
       "year                  0\n",
       "sex                   0\n",
       "age                   0\n",
       "suicides/100k pop     0\n",
       "gdp_per_capita ($)    0\n",
       "generation            0\n",
       "dtype: int64"
      ]
     },
     "execution_count": 266,
     "metadata": {},
     "output_type": "execute_result"
    }
   ],
   "source": [
    "Sucide_Ml[Sucide_Ml['suicides/100k pop']==0.0].count()"
   ]
  },
  {
   "cell_type": "code",
   "execution_count": 267,
   "metadata": {},
   "outputs": [],
   "source": [
    "## Train and test split\n",
    "\n",
    "from sklearn.model_selection import train_test_split\n",
    "from sklearn import metrics\n",
    "\n",
    "Target='suicides/100k pop'\n",
    "predictors=['year','sex','age','gdp_per_capita ($)','generation']\n",
    "X=Sucide_Ml[Target].values\n",
    "y=Sucide_Ml[predictors].values\n",
    "X_train,X_test, y_train,y_test=train_test_split(X,y,test_size=0.30, random_state=5012)\n",
    "\n",
    "\n"
   ]
  },
  {
   "cell_type": "code",
   "execution_count": 268,
   "metadata": {},
   "outputs": [
    {
     "name": "stdout",
     "output_type": "stream",
     "text": [
      "Thr R2 Value 0.29403858416799056\n",
      "Accuracy on Test Data: -354.03961390241153\n"
     ]
    }
   ],
   "source": [
    "## linaer Rigression\n",
    "\n",
    "from sklearn.linear_model import LinearRegression\n",
    "\n",
    "\n",
    "Target=['suicides/100k pop']\n",
    "predictors=['year','sex','age','gdp_per_capita ($)','generation']\n",
    "X=Sucide_Ml[predictors].values\n",
    "y=Sucide_Ml[Target].values\n",
    "X_train,X_test, y_train,y_test=train_test_split(X,y,test_size=0.32, random_state=51)\n",
    "\n",
    "mlr=LinearRegression()\n",
    "predictmodel=mlr.fit(X_train,y_train)\n",
    "predictions=predictmodel.predict(X_test)\n",
    "print(\"Thr R2 Value\",metrics.r2_score(y_train,predictmodel.predict(X_train)))\n",
    "print('Accuracy on Test Data:',100- (np.mean(np.abs((y_test - predictions) / y_test)) * 100))"
   ]
  },
  {
   "cell_type": "code",
   "execution_count": 230,
   "metadata": {},
   "outputs": [
    {
     "name": "stdout",
     "output_type": "stream",
     "text": [
      "The R squared is 0.292830993594589\n",
      " Accuracy on Test Data:  -inf\n"
     ]
    }
   ],
   "source": [
    "##\n",
    "from sklearn.linear_model import Lasso\n",
    "\n",
    "Target=['suicides/100k pop']\n",
    "predictors=['year','sex','age','gdp_per_capita ($)','generation']\n",
    "X=Sucide_Ml[predictors].values\n",
    "y=Sucide_Ml[Target].values\n",
    "X_train,X_test, y_train,y_test=train_test_split(X,y,test_size=0.32, random_state=51)\n",
    "\n",
    "lass=Lasso(alpha=0.01,max_iter=600,tol=0.0001)\n",
    "predictmodel=lass.fit(X_train,y_train)\n",
    "predictions=predictmodel.predict(X_test)\n",
    "print(\"The R squared is\",metrics.r2_score(y_train,predictmodel.predict(X_train)))\n",
    "print(\" Accuracy on Test Data: \",100- (np.mean(np.abs((y_test - predictions) / y_test)) * 100))"
   ]
  },
  {
   "cell_type": "code",
   "execution_count": 229,
   "metadata": {},
   "outputs": [
    {
     "name": "stdout",
     "output_type": "stream",
     "text": [
      "The R squared is 0.29283380518922564\n",
      " The Accuracy score  -inf\n"
     ]
    }
   ],
   "source": [
    "## Ridge Reggresion\n",
    "from sklearn.linear_model import Ridge\n",
    "\n",
    "Target=['suicides/100k pop']\n",
    "predictors=['year','sex','age','gdp_per_capita ($)','generation']\n",
    "X=Sucide_Ml[predictors].values\n",
    "y=Sucide_Ml[Target].values\n",
    "X_train,X_test, y_train,y_test=train_test_split(X,y,test_size=0.32, random_state=51)\n",
    "\n",
    "\n",
    "\n",
    "rig=Ridge(alpha=0.01)\n",
    "predictmodel=rig.fit(X_train,y_train)\n",
    "predictions=predictmodel.predict(X_test)\n",
    "print(\"The R squared is\",metrics.r2_score(y_train,predictmodel.predict(X_train)))\n",
    "print(\" The Accuracy score \",100- (np.mean(np.abs((y_test - predictions) / y_test)) * 100))\n",
    "\n",
    "\n",
    "\n"
   ]
  },
  {
   "cell_type": "code",
   "execution_count": 226,
   "metadata": {},
   "outputs": [
    {
     "name": "stdout",
     "output_type": "stream",
     "text": [
      "The R squared is 0.36669646089236085\n",
      " The Accuracy score  -inf\n"
     ]
    }
   ],
   "source": [
    "### Elastic Net regression\n",
    "\n",
    "from sklearn.linear_model import ElasticNet\n",
    "\n",
    "\n",
    "Target=['suicides/100k pop']\n",
    "predictors=['year','sex','age','gdp_per_capita ($)','generation']\n",
    "X=Sucide_Ml[predictors].values\n",
    "y=Sucide_Ml[Target].values\n",
    "X_train,X_test, y_train,y_test=train_test_split(X,y,test_size=0.21, random_state=510000)\n",
    "\n",
    "\n",
    "\n",
    "Enet=ElasticNet(alpha=0.01)\n",
    "pedictmodel=Enet.fit(X_train,y_train)\n",
    "predictions=pedictmodel.predict(X_test)\n",
    "print(\"The R squared is\",metrics.r2_score(y_train,predictmodel.predict(X_train)))\n",
    "print(\" The Accuracy score \",100- (np.mean(np.abs((y_test - predictions) / y_test)) * 100))\n"
   ]
  },
  {
   "cell_type": "code",
   "execution_count": 232,
   "metadata": {},
   "outputs": [
    {
     "name": "stdout",
     "output_type": "stream",
     "text": [
      "The R squared is 0.3675132730371369\n",
      " The Accuracy score  -inf\n"
     ]
    },
    {
     "data": {
      "text/plain": [
       "<matplotlib.axes._subplots.AxesSubplot at 0x2bb9eb398c8>"
      ]
     },
     "execution_count": 232,
     "metadata": {},
     "output_type": "execute_result"
    },
    {
     "data": {
      "image/png": "[encoded data removed]",
      "text/plain": [
       "<Figure size 432x288 with 1 Axes>"
      ]
     },
     "metadata": {
      "needs_background": "light"
     },
     "output_type": "display_data"
    }
   ],
   "source": [
    "## Decsion tree\n",
    "\n",
    "from sklearn.tree import DecisionTreeRegressor\n",
    "\n",
    "\n",
    "\n",
    "\n",
    "Target=['suicides/100k pop']\n",
    "predictors=['year','sex','age','gdp_per_capita ($)','generation']\n",
    "X=Sucide_Ml[predictors].values\n",
    "y=Sucide_Ml[Target].values\n",
    "X_train,X_test, y_train,y_test=train_test_split(X,y,test_size=0.21, random_state=510)\n",
    "\n",
    "\n",
    "\n",
    "\n",
    "dtree=DecisionTreeRegressor( max_depth=5,criterion='mse')\n",
    "predictmodel=dtree.fit(X_train,y_train)\n",
    "predictions=predictmodel.predict(X_test)\n",
    "print(\"The R squared is\",metrics.r2_score(y_train,predictmodel.predict(X_train)))\n",
    "print(\" The Accuracy score \",100- (np.mean(np.abs((y_test - predictions) / y_test)) * 100))\n",
    "\n",
    "feautre_importance=pd.Series(predictmodel.feature_importances_, index=predictors)\n",
    "feautre_importance.nlargest(5).plot(kind='bar')\n",
    "\n"
   ]
  },
  {
   "cell_type": "code",
   "execution_count": 236,
   "metadata": {},
   "outputs": [
    {
     "name": "stdout",
     "output_type": "stream",
     "text": [
      "The R squared is 0.376945901682888\n",
      " The Accuracy score  -inf\n"
     ]
    },
    {
     "data": {
      "text/plain": [
       "<matplotlib.axes._subplots.AxesSubplot at 0x2bb9f739e88>"
      ]
     },
     "execution_count": 236,
     "metadata": {},
     "output_type": "execute_result"
    },
    {
     "data": {
      "image/png": "[encoded data removed]",
      "text/plain": [
       "<Figure size 432x288 with 1 Axes>"
      ]
     },
     "metadata": {
      "needs_background": "light"
     },
     "output_type": "display_data"
    }
   ],
   "source": [
    "### Random foreest Regressor\n",
    "\n",
    "from sklearn.ensemble import RandomForestRegressor\n",
    "\n",
    "\n",
    "\n",
    "Target=['suicides/100k pop']\n",
    "predictors=['year','sex','age','gdp_per_capita ($)','generation']\n",
    "X=Sucide_Ml[predictors].values\n",
    "y=Sucide_Ml[Target].values\n",
    "X_train,X_test, y_train,y_test=train_test_split(X,y,test_size=0.25, random_state=92450)\n",
    "\n",
    "\n",
    "\n",
    "rgf=RandomForestRegressor(n_estimators=200,criterion='mse',max_depth=5)\n",
    "predictmodel=rgf.fit(X_train,y_train)\n",
    "predictions=predictmodel.predict(X_test)\n",
    "print(\"The R squared is\",metrics.r2_score(y_train,predictmodel.predict(X_train)))\n",
    "print(\" The Accuracy score \",100- (np.mean(np.abs((y_test - predictions) / y_test)) * 100))\n",
    "\n",
    "feautre_importance=pd.Series(predictmodel.feature_importances_,index=predictors)\n",
    "feautre_importance.nlargest(10).plot(kind='bar')\n",
    "\n"
   ]
  },
  {
   "cell_type": "code",
   "execution_count": 240,
   "metadata": {},
   "outputs": [
    {
     "name": "stdout",
     "output_type": "stream",
     "text": [
      "The R squared is 0.37944069992680907\n",
      " The Accuracy score  -inf 5\n"
     ]
    },
    {
     "data": {
      "text/plain": [
       "<matplotlib.axes._subplots.AxesSubplot at 0x2bb9f7713c8>"
      ]
     },
     "execution_count": 240,
     "metadata": {},
     "output_type": "execute_result"
    },
    {
     "data": {
      "image/png": "[encoded data removed]",
      "text/plain": [
       "<Figure size 432x288 with 1 Axes>"
      ]
     },
     "metadata": {
      "needs_background": "light"
     },
     "output_type": "display_data"
    }
   ],
   "source": [
    "## Ada Boost Regressor\n",
    "\n",
    "from sklearn.tree import DecisionTreeRegressor\n",
    "from sklearn.ensemble import AdaBoostRegressor\n",
    "\n",
    "\n",
    "\n",
    "\n",
    "Target=['suicides/100k pop']\n",
    "predictors=['year','sex','age','gdp_per_capita ($)','generation']\n",
    "X=Sucide_Ml[predictors].values\n",
    "y=Sucide_Ml[Target].values\n",
    "X_train,X_test, y_train,y_test=train_test_split(X,y,test_size=0.25, random_state=51000)\n",
    "\n",
    "\n",
    "\n",
    "dtree=DecisionTreeRegressor(max_depth=5)\n",
    "Ada =AdaBoostRegressor( base_estimator=dtree,n_estimators=300,learning_rate=0.002)\n",
    "Predictmodel=Ada.fit(X_train,y_train)\n",
    "predictions=Predictmodel.predict(X_test)\n",
    "print(\"The R squared is\",metrics.r2_score(y_train,predictmodel.predict(X_train)))\n",
    "print(\" The Accuracy score \",100- (np.mean(np.abs((y_test - predictions) / y_test)) * 100))\n",
    "\n",
    "\n",
    "feautre_importance=pd.Series(predictmodel.feature_importances_,index=predictors)\n",
    "feautre_importance.nlargest(10).plot(kind='bar')\n",
    "\n"
   ]
  },
  {
   "cell_type": "code",
   "execution_count": 244,
   "metadata": {},
   "outputs": [
    {
     "name": "stdout",
     "output_type": "stream",
     "text": [
      "The R squared is 0.4553694160347701\n",
      " The Accuracy score  -inf\n"
     ]
    },
    {
     "data": {
      "text/plain": [
       "<matplotlib.axes._subplots.AxesSubplot at 0x2bba08e0708>"
      ]
     },
     "execution_count": 244,
     "metadata": {},
     "output_type": "execute_result"
    },
    {
     "data": {
      "image/png": "[encoded data removed]",
      "text/plain": [
       "<Figure size 432x288 with 1 Axes>"
      ]
     },
     "metadata": {
      "needs_background": "light"
     },
     "output_type": "display_data"
    }
   ],
   "source": [
    "## Light BGM\n",
    "from lightgbm import LGBMRegressor\n",
    "\n",
    "\n",
    "\n",
    "Target=['suicides/100k pop']\n",
    "predictors=['year','sex','age','gdp_per_capita ($)','generation']\n",
    "X=Sucide_Ml[predictors].values\n",
    "y=Sucide_Ml[Target].values\n",
    "X_train,X_test, y_train,y_test=train_test_split(X,y,test_size=0.25, random_state=51000)\n",
    "\n",
    "\n",
    "\n",
    "lgb=LGBMRegressor(learning_rate=0.01,n_estimators=300,max_depth=-1)\n",
    "predictmodel=lgb.fit(X_train, y_train)\n",
    "predictions=predictmodel.predict(X_test)\n",
    "print(\"The R squared is\",metrics.r2_score(y_train,predictmodel.predict(X_train)))\n",
    "print(\" The Accuracy score \",100- (np.mean(np.abs((y_test - predictions) / y_test)) * 100))\n",
    "\n",
    "feautre_importance=pd.Series(predictmodel.feature_importances_,index=predictors)\n",
    "feautre_importance.nlargest(10).plot(kind='bar')\n",
    "\n"
   ]
  },
  {
   "cell_type": "code",
   "execution_count": 249,
   "metadata": {},
   "outputs": [
    {
     "name": "stdout",
     "output_type": "stream",
     "text": [
      "[17:09:45] WARNING: C:/Users/Administrator/workspace/xgboost-win64_release_1.0.0/src/objective/regression_obj.cu:167: reg:linear is now deprecated in favor of reg:squarederror.\n",
      "The R squared is 0.4224500526837691\n",
      " The Accuracy score  -inf\n"
     ]
    },
    {
     "data": {
      "text/plain": [
       "<matplotlib.axes._subplots.AxesSubplot at 0x2bba24b0148>"
      ]
     },
     "execution_count": 249,
     "metadata": {},
     "output_type": "execute_result"
    },
    {
     "data": {
      "image/png": "[encoded data removed]",
      "text/plain": [
       "<Figure size 432x288 with 1 Axes>"
      ]
     },
     "metadata": {
      "needs_background": "light"
     },
     "output_type": "display_data"
    }
   ],
   "source": [
    "## Xgboost \n",
    "\n",
    "from xgboost import XGBRegressor\n",
    "\n",
    "\n",
    "Target=['suicides/100k pop']\n",
    "predictors=['year','sex','age','gdp_per_capita ($)','generation']\n",
    "X=Sucide_Ml[predictors].values\n",
    "y=Sucide_Ml[Target].values\n",
    "X_train,X_test, y_train,y_test=train_test_split(X,y,test_size=0.31, random_state=45890)\n",
    "\n",
    "\n",
    "\n",
    "xgb=XGBRegressor(max_depth=5, learning_rate=0.01, n_estimators=400, objective='reg:linear', booster='gbtree')\n",
    "predictmodel=xgb.fit(X_train, y_train)\n",
    "predictions=predictmodel.predict(X_test)\n",
    "print(\"The R squared is\",metrics.r2_score(y_train,predictmodel.predict(X_train)))\n",
    "print(\" The Accuracy score \",100- (np.mean(np.abs((y_test - predictions) / y_test)) * 100))\n",
    "\n",
    "feautre_importance=pd.Series(predictmodel.feature_importances_,index=predictors)\n",
    "feautre_importance.nlargest(10).plot(kind='bar')\n"
   ]
  },
  {
   "cell_type": "code",
   "execution_count": 252,
   "metadata": {},
   "outputs": [
    {
     "name": "stdout",
     "output_type": "stream",
     "text": [
      "The R squared is 0.6226970564484413\n",
      " The Accuracy score  nan\n"
     ]
    }
   ],
   "source": [
    "## KNN Regressor\n",
    "\n",
    "from sklearn.neighbors import KNeighborsRegressor\n",
    "\n",
    "\n",
    "Target=['suicides/100k pop']\n",
    "predictors=['year','sex','age','gdp_per_capita ($)','generation']\n",
    "X=Sucide_Ml[predictors].values\n",
    "y=Sucide_Ml[Target].values\n",
    "X_train,X_test, y_train,y_test=train_test_split(X,y,test_size=0.31, random_state=45890)\n",
    "\n",
    "\n",
    "knn=KNeighborsRegressor(n_neighbors=3)\n",
    "predictmodel=knn.fit(X_train, y_train)\n",
    "predictions=predictmodel.predict(X_test)\n",
    "print(\"The R squared is\",metrics.r2_score(y_train,predictmodel.predict(X_train)))\n",
    "print(\" The Accuracy score \",100- (np.mean(np.abs((y_test - predictions) / y_test)) * 100))\n",
    "\n",
    "\n"
   ]
  },
  {
   "cell_type": "code",
   "execution_count": 259,
   "metadata": {},
   "outputs": [
    {
     "name": "stdout",
     "output_type": "stream",
     "text": [
      "The R squared is 0.05779016439829465\n",
      " The Accuracy score  -inf\n"
     ]
    }
   ],
   "source": [
    "## SVR\n",
    "\n",
    "from sklearn import svm\n",
    "\n",
    "Target=['suicides/100k pop']\n",
    "predictors=['year','sex','age','gdp_per_capita ($)','generation']\n",
    "X=Sucide_Ml[predictors].values\n",
    "y=Sucide_Ml[Target].values\n",
    "X_train,X_test, y_train,y_test=train_test_split(X,y,test_size=0.35, random_state=5200)\n",
    "\n",
    "\n",
    "SVRl=svm.SVR(kernel='rbf',gamma=0.01,C=3)\n",
    "predictmodel=SVRl.fit(X_train, y_train)\n",
    "predictions=predictmodel.predict(X_test)\n",
    "print(\"The R squared is\",metrics.r2_score(y_train,predictmodel.predict(X_train)))\n",
    "print(\" The Accuracy score \",100- (np.mean(np.abs((y_test - predictions) / y_test)) * 100))\n",
    "\n",
    "\n"
   ]
  },
  {
   "cell_type": "code",
   "execution_count": null,
   "metadata": {},
   "outputs": [],
   "source": []
  }
 ],
 "metadata": {
  "kernelspec": {
   "display_name": "Python 3",
   "language": "python",
   "name": "python3"
  },
  "language_info": {
   "codemirror_mode": {
    "name": "ipython",
    "version": 3
   },
   "file_extension": ".py",
   "mimetype": "text/x-python",
   "name": "python",
   "nbconvert_exporter": "python",
   "pygments_lexer": "ipython3",
   "version": "3.7.4"
  }
 },
 "nbformat": 4,
 "nbformat_minor": 2
}
